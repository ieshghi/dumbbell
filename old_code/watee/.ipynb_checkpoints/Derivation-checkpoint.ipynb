{
 "cells": [
  {
   "cell_type": "markdown",
   "metadata": {},
   "source": [
    "#### RAMP"
   ]
  },
  {
   "cell_type": "markdown",
   "metadata": {},
   "source": [
    "Suppose that the energy of the ramp in one period $\\lambda$ is\n",
    "\n",
    "$$V(x) = \n",
    "\\begin{cases}\n",
    "    ~~~\\frac{\\alpha}{\\lambda_1}(\\lambda_1 - x)       & \\text{for}~~ 0\\leq x  \\leq \\lambda_1 \\\\\n",
    "    \\frac{\\alpha}{\\lambda-\\lambda_1}(x - \\lambda_1)  & \\text{for}~~ \\lambda_1 \\leq x\\leq \\lambda\n",
    "\\end{cases}\n",
    "$$"
   ]
  },
  {
   "cell_type": "markdown",
   "metadata": {},
   "source": [
    "Since $V(x)$ is a periodic function with period $\\lambda$ the Fourier representation of this energy is thus\n",
    "\n",
    "$$ U(x) = \\frac{a_0}{2} + \\sum_{n = 1}^{\\infty} a_n \\cos(\\frac{2n \\pi x}{\\lambda}) + \\sum_{n = 1}^{\\infty} b_n \\sin(\\frac{2n \\pi x}{\\lambda})$$\n",
    "\n",
    "where \n",
    "\n",
    "$ a_0 = \\frac{2}{\\lambda}\\int_0^\\lambda dx' V(x') = \\alpha$\n",
    "\n",
    "$ a_n = \\frac{2}{\\lambda}\\int_0^\\lambda dx' V(x') \\cos(\\frac{2n\\pi x'}{\\lambda}) = \\frac{\\alpha\\lambda ^2}{2 \\pi ^2 \\left(\\lambda -\\lambda _1\\right) \\lambda _1 n^2}-\\frac{\\alpha  \\lambda ^2 \\cos \\left(\\frac{2 \\pi  \\lambda _1 n}{\\lambda }\\right)}{2 \\pi ^2 \\left(\\lambda -\\lambda _1\\right) \\lambda _1 n^2}$\n",
    "\n",
    "$ b_n = \\frac{2}{\\lambda}\\int_0^\\lambda dx' V(x') \\sin(\\frac{2n\\pi x'}{\\lambda}) = -\\frac{\\alpha  \\lambda ^2 \\sin \\left(\\frac{2 \\pi  \\lambda _1 n}{\\lambda }\\right)}{2 \\pi ^2 \\left(\\lambda -\\lambda _1\\right) \\lambda _1 n^2}$"
   ]
  },
  {
   "cell_type": "markdown",
   "metadata": {},
   "source": [
    "Hence we have\n",
    "$$\n",
    "\\begin{split}\n",
    "U(x) &= \\frac{\\alpha}{2} + \\frac{\\alpha\\lambda ^2}{2 \\pi ^2 \\left(\\lambda -\\lambda _1\\right) \\lambda _1}  \\sum_{n = 1}^{\\infty} \\frac{1}{n^2} \\left( \\cos(\\frac{2n \\pi x}{\\lambda}) -   \\cos (\\frac{2 n\\pi  \\lambda _1 }{\\lambda })\\cos(\\frac{2n \\pi x}{\\lambda}) -   \\sin (\\frac{2 n\\pi  \\lambda _1 }{\\lambda })\\sin(\\frac{2n \\pi x}{\\lambda}) \\right)\\\\\n",
    "&= \\frac{\\alpha}{2} + \\frac{\\alpha\\lambda ^2}{2 \\pi ^2 \\left(\\lambda -\\lambda _1\\right) \\lambda _1}  \\sum_{n = 1}^{\\infty} \\frac{1}{n^2} \\left( \\cos(\\frac{2n \\pi x}{\\lambda}) - \\cos (\\frac{2 \\pi  n (x-\\lambda_1)}{\\lambda }) \\right)\n",
    "\\end{split}\n",
    "$$"
   ]
  },
  {
   "cell_type": "markdown",
   "metadata": {},
   "source": [
    "The total energy of the particle 1 and particle 2 located at $x_1$ and $x_2$ respectively is \n",
    "\n",
    "$$ U(x_1, x_2) = U(x_1) + U(x_2)$$"
   ]
  },
  {
   "cell_type": "markdown",
   "metadata": {},
   "source": [
    "The ramp force on particle 1 and particle 2 located at $x_1$ and $x_2$ respectively is\n",
    "\n",
    "$$\n",
    "\\begin{split}\n",
    "F_1(x_1) &= -\\partial_{x_1} U(x_1) = \\frac{\\alpha\\lambda}{ \\pi  \\left(\\lambda -\\lambda _1\\right) \\lambda _1}  \\sum_{n = 1}^{\\infty} \\frac{1}{n} \\left( \\sin(\\frac{2n \\pi x_1}{\\lambda}) - \\sin (\\frac{2 n \\pi   (x_1-\\lambda_1)}{\\lambda }) \\right)\\\\\n",
    "F_2(x_2) &= -\\partial_{x_2} U(x_2) = \\frac{\\alpha\\lambda}{ \\pi  \\left(\\lambda -\\lambda _1\\right) \\lambda _1}  \\sum_{n = 1}^{\\infty} \\frac{1}{n} \\left( \\sin(\\frac{2n \\pi x_2}{\\lambda}) - \\sin (\\frac{2 n \\pi   (x_2-\\lambda_1)}{\\lambda }) \\right)\n",
    "\\end{split}\n",
    "$$\n"
   ]
  },
  {
   "cell_type": "markdown",
   "metadata": {},
   "source": [
    "#### PROBLEM SETUP"
   ]
  },
  {
   "cell_type": "markdown",
   "metadata": {},
   "source": [
    "The Langevin equation for 2 temperature particles is \n",
    "\n",
    "$$\n",
    "\\begin{split}\n",
    "\\gamma_1 \\frac{d}{dt} x_1(t) &=  k(x_2(t)-x_1(t)) + F_1(x_1) + f_0 + \\sqrt{2T_1\\gamma_1}~\\xi_1(t) \\\\\n",
    "\\gamma_2 \\frac{d}{dt} x_2(t) &=  k(x_1(t)-x_2(t)) + F_2(x_2) + f_0 + \\sqrt{2T_2\\gamma_2}~\\xi_2(t) \n",
    "\\end{split}\n",
    "$$\n",
    "\n",
    "In matrix form, we have\n",
    "$$\n",
    "\\frac{d}{dt}\\begin{bmatrix}\n",
    " x_1(t) \\\\\n",
    " x_2(t)  \n",
    " \\end{bmatrix} =  \\begin{bmatrix} -k & k \\\\ k & -k  \\end{bmatrix}\\begin{bmatrix} x_1(t)\\\\  x_2(t) \\end{bmatrix} + \\begin{bmatrix} \\frac{F_1(x_1)}{\\gamma_1}\\\\  \\frac{F_2(x_2)}{\\gamma_2} \\end{bmatrix} + \\begin{bmatrix} f_0\\\\  f_0 \\end{bmatrix} + \\begin{bmatrix} \\sqrt{\\frac{2T_1}{\\gamma_1}} & 0 \\\\ 0 & \\sqrt{\\frac{2T_2}{\\gamma_2}}  \\end{bmatrix}\\begin{bmatrix} \\xi_1(t)\\\\  \\xi_2(t) \\end{bmatrix}\n",
    "$$\n",
    "where $\\langle \\xi_i(t)\\xi_j(t') \\rangle = \\delta_{ij}\\delta(t-t')$ for $i,j = 1, 2$."
   ]
  },
  {
   "cell_type": "markdown",
   "metadata": {},
   "source": [
    "#### TRANSFORM TO SIMPLER COORDINATES"
   ]
  },
  {
   "cell_type": "markdown",
   "metadata": {},
   "source": [
    "SH-JF coordinates is defined as $R = \\frac{\\gamma_1 T_2 x_1+ \\gamma_2 T_1 x_2}{\\gamma_1 T_2 + \\gamma_2T_1}$ and $x_1 - x_2$, which can be written in matrix form as \n",
    "\n",
    "$$\n",
    "\\begin{bmatrix}\n",
    " R \\\\\n",
    " r  \n",
    " \\end{bmatrix} =  \\begin{bmatrix} \\frac{\\gamma_1 T_2}{\\gamma_1 T_2 + \\gamma_2T_1} & \\frac{\\gamma_2 T_1}{\\gamma_1 T_2 + \\gamma_2T_1} \\\\ 1 & -1  \\end{bmatrix}\\begin{bmatrix} x_1 \\\\  x_2 \\end{bmatrix} \n",
    "$$\n",
    "Let $M := \\begin{bmatrix} \\frac{\\gamma_1 T_2}{\\gamma_1 T_2 + \\gamma_2T_1} & \\frac{\\gamma_2 T_1}{\\gamma_1 T_2 + \\gamma_2T_1} \\\\ 1 & -1  \\end{bmatrix}$.\n"
   ]
  },
  {
   "cell_type": "markdown",
   "metadata": {},
   "source": [
    "Multiply both side of the Langevin equations in Matrix form we have\n",
    "\n",
    "$$\n",
    "\\frac{d}{dt}\\begin{bmatrix}\n",
    " R(t) \\\\\n",
    " r(t)  \n",
    " \\end{bmatrix} = \n",
    "\\begin{bmatrix}\n",
    " 0 & k\\frac{\\left(T_1-T_2\\right)}{  \\gamma _1T_2  +  \\gamma _2T_1} \\\\\n",
    " 0 & -k\\frac{ \\left(\\gamma _1+\\gamma _2\\right)}{\\gamma _1 \\gamma _2} \\\\\n",
    "\\end{bmatrix}\n",
    "\\begin{bmatrix} R(t)\\\\  r(t) \\end{bmatrix} + \\begin{bmatrix} \\frac{\\gamma_1 T_2}{\\gamma_1 T_2 + \\gamma_2T_1} & \\frac{\\gamma_2 T_1}{\\gamma_1 T_2 + \\gamma_2T_1} \\\\ 1 & -1  \\end{bmatrix} \\begin{bmatrix} \\frac{F_1(x_1)}{\\gamma_1}\\\\  \\frac{F_2(x_2)}{\\gamma_2} \\end{bmatrix} + \\begin{bmatrix} \\frac{\\gamma_1 T_2}{\\gamma_1 T_2 + \\gamma_2T_1} & \\frac{\\gamma_2 T_1}{\\gamma_1 T_2 + \\gamma_2T_1} \\\\ 1 & -1  \\end{bmatrix} \\begin{bmatrix} f_0\\\\  f_0 \\end{bmatrix} + \\begin{bmatrix}\n",
    " \\sqrt{2 k_B\\frac{T_1 T_2}{ \\gamma _1 T_2 + \\gamma _2 T_1}} & 0 \\\\\n",
    " 0 & \\sqrt{2 k_B \\left(\\frac{T_1}{\\gamma _1}+\\frac{T_2}{\\gamma _2}\\right)} \\\\\n",
    "\\end{bmatrix}\n",
    "\\begin{bmatrix} \\xi_R(t)\\\\  \\xi_r(t) \\end{bmatrix}\n",
    "$$\n",
    "\n",
    "where $\\langle \\xi_i(t)\\xi_j(t') \\rangle = \\delta_{ij}\\delta(t-t')$ for $i,j = R, r$"
   ]
  },
  {
   "cell_type": "markdown",
   "metadata": {},
   "source": [
    "* The matrix $\\pmb{\\Sigma} = \\begin{bmatrix}\n",
    " \\frac{k_B T_1 T_2}{ \\gamma _1 T_2 + \\gamma _2 T_1} & 0 \\\\\n",
    " 0 & k_B \\left(\\frac{T_1}{\\gamma _1}+\\frac{T_2}{\\gamma _1}\\right) \\\\\n",
    "\\end{bmatrix}$ (compared to the standard symbol used in SDE literature) can be obtain from $\\pmb{\\sigma} = \\begin{bmatrix} \\sqrt{\\frac{2T_1}{\\gamma_1}} & 0 \\\\ 0 & \\sqrt{\\frac{2T_2}{\\gamma_2}}  \\end{bmatrix}$\n",
    "by observing that the diffusion tensor in the new coordinate\n",
    "\n",
    "$$\n",
    "\\mathbf{D} = \\frac{1}{2}(M\\pmb{\\sigma})(M\\pmb{\\sigma})^{\\top} = \\frac{1}{2}M\\pmb{\\sigma}\\pmb{\\sigma}^{\\top} M^{\\top} =  \\begin{bmatrix}\n",
    "  k_B\\frac{T_1 T_2}{ \\gamma _1 T_2 + \\gamma _2 T_1} & 0 \\\\\n",
    " 0 &  k_B \\left(\\frac{T_1}{\\gamma _1}+\\frac{T_2}{\\gamma _1}\\right) \\\\\n",
    "\\end{bmatrix}\n",
    "$$\n",
    "encodes the correlation of\n",
    "$$\n",
    "\\begin{split}\n",
    "\\xi_R(t) &= \\frac{\\gamma_1 T_2 }{\\gamma_1 T_2 + \\gamma_2T_1}\\xi_1(t) + \\frac{\\gamma_2 T_1}{\\gamma_1 T_2 + \\gamma_2T_1}\\xi_2(t)\\\\\n",
    "\\xi_r(t) &= \\xi_1(t) - \\xi_2(t)\n",
    "\\end{split}\n",
    "$$"
   ]
  },
  {
   "cell_type": "markdown",
   "metadata": {},
   "source": [
    "##### REDUCTION TO A SIMPLER VARIABLE"
   ]
  },
  {
   "cell_type": "markdown",
   "metadata": {},
   "source": [
    "To make the equation above look nice and a necessary step to make the equation dimensionless, we define\n",
    "\n",
    "* $T_1 := T +\\Delta T$ with $\\Delta T \\geq 0$\n",
    "* $T_2 := T -\\Delta T$ with $\\Delta T \\geq 0$\n",
    "* $\\gamma_\\text{M} := \\frac{\\gamma_1 +\\gamma_2}{2}$       \n",
    "* $\\frac{1}{\\gamma_\\text{H}} := \\frac{1}{2}(\\frac{1}{\\gamma_1} + \\frac{1}{\\gamma_2})$ \n",
    "    * When $\\gamma_1 = \\gamma_2$, $\\gamma_\\text{M} = \\gamma_\\text{H}$. \n",
    "* $\\delta_\\gamma := \\frac{\\gamma_2 - \\gamma_1}{2}$"
   ]
  },
  {
   "cell_type": "markdown",
   "metadata": {},
   "source": [
    "We can then define the first two dimensionless parameters of the problem as\n",
    "\n",
    "* $\\tilde{\\Delta} := \\frac{\\Delta T}{T}$\n",
    "\n",
    "* $\\tilde{\\delta} := \\frac{\\delta_\\gamma}{\\gamma_\\text{M}}$"
   ]
  },
  {
   "cell_type": "markdown",
   "metadata": {},
   "source": [
    "Using the above definition we can re-write the following expressions in a very nice way\n",
    "* $\\boxed{\\gamma_1 T_2 + \\gamma_2 T_1 = 2\\gamma_M T \\left ( 1 + \\tilde{\\Delta} ~\\tilde{\\delta}\\right)}  $\n",
    "    * $ T(\\gamma_1 +\\gamma_2) + \\Delta T(\\gamma_2 - \\gamma_1) =  2\\gamma_M T \\left ( 1 + \\frac{\\Delta T}{T}\\frac{\\delta_\\gamma}{\\gamma_M} \\right) = 2\\gamma_M T \\left ( 1 + \\tilde{\\Delta} ~\\tilde{\\delta}\\right)$\n",
    "\n",
    "* $\\boxed{\\frac{\\gamma_1 T_2}{\\gamma_1 T_2 + \\gamma_2T_1} =\\frac{1}{2}\\frac{\\gamma_1}{\\gamma_M}\\frac{(1-\\tilde{\\Delta} )}{ \\left ( 1 + \\tilde{\\Delta} ~\\tilde{\\delta}\\right)}}$\n",
    "\n",
    "    * $\\frac{\\gamma_1(T-\\Delta T)}{2\\gamma_M T \\left ( 1 + \\tilde{\\Delta} ~\\tilde{\\delta}\\right)} = \\frac{1}{2}\\frac{\\gamma_1}{\\gamma_M}\\frac{(1-\\tilde{\\Delta} )}{ \\left ( 1 + \\tilde{\\Delta} ~\\tilde{\\delta}\\right)}$\n",
    "\n",
    "* $\\boxed{\\frac{\\gamma_2 T_1}{\\gamma_1 T_2 + \\gamma_2T_1}= \\frac{1}{2}\\frac{\\gamma_2}{\\gamma_M}\\frac{(1+\\tilde{\\Delta} )}{ \\left ( 1 + \\tilde{\\Delta} ~\\tilde{\\delta}\\right)}}$\n",
    "\n",
    "    * $\\frac{\\gamma_2(T+\\Delta T)}{2\\gamma_M T \\left ( 1 + \\tilde{\\Delta} ~\\tilde{\\delta}\\right)} = \\frac{1}{2}\\frac{\\gamma_2}{\\gamma_M}\\frac{(1+\\tilde{\\Delta} )}{ \\left ( 1 + \\tilde{\\Delta} ~\\tilde{\\delta}\\right)}$\n",
    "\n",
    "* $\\boxed{k\\frac{\\left(T_1-T_2\\right)}{  \\gamma _1T_2  +  \\gamma _2T_1} = \\frac{1}{2}\\frac{k}{\\gamma_M}\\frac{\\tilde{\\Delta}}{\\left ( 1 + \\tilde{\\Delta} ~\\tilde{\\delta}\\right)}}$\n",
    "\n",
    "    * $k \\frac{\\Delta T}{2\\gamma_M T \\left ( 1 + \\tilde{\\Delta} ~\\tilde{\\delta}\\right)} = \\frac{1}{2}\\frac{k}{\\gamma_M}\\frac{\\tilde{\\Delta}}{\\left ( 1 + \\tilde{\\Delta} ~\\tilde{\\delta}\\right)}$\n",
    "\n",
    "* $\\boxed{-k\\frac{ \\left(\\gamma _1+\\gamma_2\\right)}{\\gamma_1 \\gamma _2} = -\\frac{2k}{\\gamma_\\text{H}}}$\n",
    "\n",
    "* $\\boxed{\\sqrt{2 k_B\\frac{T_1 T_2}{ \\gamma_1 T_2 + \\gamma_2 T_1}} = \\sqrt{\\frac{k_B T}{\\gamma_M}\\frac{(1 - \\tilde{\\Delta}^2 )}{   \\left ( 1 + \\tilde{\\Delta} ~\\tilde{\\delta}\\right) }}}$\n",
    "\n",
    "    * $= \\sqrt{2 k_B\\frac{(T + \\Delta T)(T - \\Delta T)}{2 \\gamma_M T \\left ( 1 + \\tilde{\\Delta} ~\\tilde{\\delta}\\right) }} = \\sqrt{k_B T^2\\frac{(1 + \\tilde{\\Delta} )(1 - \\tilde{\\Delta})}{ \\gamma_M T \\left ( 1 + \\tilde{\\Delta} ~\\tilde{\\delta}\\right) }} = \\sqrt{\\frac{k_B T}{\\gamma_M}\\frac{(1 - \\tilde{\\Delta}^2 )}{   \\left ( 1 + \\tilde{\\Delta} ~\\tilde{\\delta}\\right) }}$\n",
    "    \n",
    "* $\\boxed{\\sqrt{2 k_B \\left(\\frac{T_1}{\\gamma _1}+\\frac{T_2}{\\gamma _2}\\right)} = \\sqrt{\\frac{4k_B T}{\\gamma_H} \\left(1 + \\tilde{\\Delta} \\tilde{\\delta}\\right)} }$\n",
    "    * $= \\sqrt{2 k_B \\left(\\frac{T +\\Delta T}{\\gamma _1}+\\frac{T - \\Delta T}{\\gamma _2}\\right)} = \\sqrt{2 k_B \\left(T(\\frac{1}{\\gamma _1}+\\frac{1}{\\gamma _2}) + \\Delta T(\\frac{1}{\\gamma _1}-\\frac{1}{\\gamma _2}) \\right)} = \\sqrt{2 k_B \\left(\\frac{2T}{\\gamma_\\text{H}} + \\Delta T(\\frac{\\delta_\\gamma}{\\gamma_1\\gamma_2}) \\right)} = \\sqrt{\\frac{4k_B T}{\\gamma_H} \\left(1 + \\tilde{\\Delta} \\tilde{\\delta}\\right)}$"
   ]
  },
  {
   "cell_type": "markdown",
   "metadata": {},
   "source": [
    "$$\n",
    "x_1 + x_2 = 2R + \\frac{T_1\\gamma_2 - T_2\\gamma_1}{T_1\\gamma_2+T_2\\gamma_1}r = 2R + \\frac{\\tilde{\\Delta}+\\tilde{\\delta}}{1+\\tilde{\\Delta}\\tilde{\\delta}}r := 2R + \\tilde{\\rho} r\n",
    "$$"
   ]
  },
  {
   "cell_type": "markdown",
   "metadata": {},
   "source": [
    "Thus the Langevin equation in this new variable is (for now take $f_0 = 0)$"
   ]
  },
  {
   "cell_type": "markdown",
   "metadata": {},
   "source": [
    "$$\n",
    "\\begin{split}\n",
    " \\frac{d}{dt} R(t) &=  \\frac{1}{2}\\frac{k}{\\gamma_M}\\frac{\\tilde{\\Delta}}{\\left ( 1 + \\tilde{\\Delta} ~\\tilde{\\delta}\\right)}r(t) + F_R(R,r) + \\sqrt{\\frac{k_B T}{\\gamma_M}\\frac{(1 - \\tilde{\\Delta}^2 )}{   \\left ( 1 + \\tilde{\\Delta} ~\\tilde{\\delta}\\right) }}~\\xi_R(t) \\\\\n",
    " \\frac{d}{dt} r(t) &=  ~~~~~~~~~~~~~~~~~-\\frac{2k}{\\gamma_\\text{H}} r(t) + F_r(R,r)  + \\sqrt{\\frac{4k_B T}{\\gamma_H} \\left(1 + \\tilde{\\Delta} \\tilde{\\delta}\\right)}~\\xi_r(t) \n",
    "\\end{split}\n",
    "$$\n"
   ]
  },
  {
   "cell_type": "markdown",
   "metadata": {},
   "source": [
    "where \n",
    "$$\n",
    "\\begin{split}\n",
    "\\end{split}\n",
    "$$"
   ]
  },
  {
   "cell_type": "markdown",
   "metadata": {},
   "source": [
    "$$\n",
    "\\begin{split}\n",
    " F_R(x_1, x_2) &= \\frac{T_2}{\\gamma_1 T_2 + \\gamma_2T_1}F_1(x_1) + \\frac{T_1}{\\gamma_1 T_2 + \\gamma_2T_1}F_2(x_2) \\\\\n",
    " &= \\frac{1}{2}\\frac{1}{\\gamma_M}\\frac{(1-\\tilde{\\Delta} )}{ \\left ( 1 + \\tilde{\\Delta} ~\\tilde{\\delta}\\right)} F_1(x_1)+\\frac{1}{2}\\frac{1}{\\gamma_M}\\frac{(1+\\tilde{\\Delta} )}{ \\left ( 1 + \\tilde{\\Delta} ~\\tilde{\\delta}\\right)}F_2(x_2) \\\\\n",
    " &= \\frac{1}{2}\\frac{1}{\\gamma_M}\\frac{1}{ \\left ( 1 + \\tilde{\\Delta} ~\\tilde{\\delta}\\right)}(F_1(x_1) + F_2(x_2)) - \\frac{1}{2}\\frac{1}{\\gamma_M}\\frac{\\tilde{\\Delta} }{ \\left ( 1 + \\tilde{\\Delta} ~\\tilde{\\delta}\\right)} (F_1(x_1) - F_2(x_2))\n",
    "\\end{split}\n",
    "$$"
   ]
  },
  {
   "cell_type": "markdown",
   "metadata": {},
   "source": [
    "$$\n",
    "\\begin{split}\n",
    " F_r(x_1, x_2) &= \\frac{F_1(x_1)}{\\gamma_1} - \\frac{F_2(x_2)}{\\gamma_2}\n",
    "\\end{split}\n",
    "$$"
   ]
  },
  {
   "cell_type": "markdown",
   "metadata": {},
   "source": [
    "with \n",
    "\n",
    "$$\n",
    "\\begin{split}\n",
    "F_1(x_1) + F_2(x_2) &= \\frac{\\alpha\\lambda}{ \\pi  \\left(\\lambda -\\lambda _1\\right) \\lambda _1}  \\sum_{n = 1}^{\\infty} \\frac{1}{n} \\left( \\sin(\\frac{2n \\pi x_1}{\\lambda}) - \\sin (\\frac{2 n \\pi   (x_1-\\lambda_1)}{\\lambda }) + \\sin(\\frac{2n \\pi x_2}{\\lambda}) - \\sin (\\frac{2 n \\pi   (x_2-\\lambda_1)}{\\lambda }) \\right) \\\\\n",
    "&=  \\frac{\\alpha\\lambda}{ \\pi  \\left(\\lambda -\\lambda _1\\right) \\lambda _1}  \\sum_{n = 1}^{\\infty} \\frac{4}{n} \\sin \\left(\\frac{n \\pi   \\lambda _1}{\\lambda }\\right) \\cos \\left(\\frac{n \\pi   \\left(x_1-x_2\\right)}{\\lambda }\\right) \\cos \\left(\\frac{n \\pi   \\left(x_1+x_2 -\\lambda_1\\right)}{\\lambda }\\right) \\\\\n",
    "&= \\frac{\\alpha\\lambda}{ \\pi  \\left(\\lambda -\\lambda _1\\right) \\lambda _1}  \\sum_{n = 1}^{\\infty} \\frac{4}{n} \\sin \\left(\\frac{n \\pi   \\lambda _1}{\\lambda }\\right) \\cos \\left(\\frac{n \\pi r}{\\lambda }\\right) \\cos \\left(\\frac{n \\pi   \\left(2R + \\tilde{\\rho}r -\\lambda_1\\right)}{\\lambda }\\right)\n",
    "\\end{split}\n",
    "$$"
   ]
  },
  {
   "cell_type": "markdown",
   "metadata": {},
   "source": [
    "$$\n",
    "\\begin{split}\n",
    "F_1(x_1) - F_2(x_2) &= \\frac{\\alpha\\lambda}{ \\pi  \\left(\\lambda -\\lambda _1\\right) \\lambda _1}  \\sum_{n = 1}^{\\infty} \\frac{1}{n} \\left( \\sin(\\frac{2n \\pi x_1}{\\lambda}) - \\sin (\\frac{2 n \\pi   (x_1-\\lambda_1)}{\\lambda }) - \\sin(\\frac{2n \\pi x_2}{\\lambda}) + \\sin (\\frac{2 n \\pi   (x_2-\\lambda_1)}{\\lambda }) \\right)\\\\\n",
    "&= - \\frac{\\alpha\\lambda}{ \\pi  \\left(\\lambda -\\lambda _1\\right) \\lambda _1}  \\sum_{n = 1}^{\\infty} \\frac{4}{n} \\sin \\left(\\frac{n \\pi  \\lambda _1 }{\\lambda }\\right) \\sin \\left(\\frac{n \\pi   \\left(x_1-x_2\\right)}{\\lambda }\\right) \\sin \\left(\\frac{n \\pi  \\left(x_1 + x_2 -\\lambda_1\\right)}{\\lambda }\\right)\\\\\n",
    "&= - \\frac{\\alpha\\lambda}{ \\pi  \\left(\\lambda -\\lambda _1\\right) \\lambda _1}  \\sum_{n = 1}^{\\infty} \\frac{4}{n} \\sin \\left(\\frac{n \\pi  \\lambda _1 }{\\lambda }\\right) \\sin \\left(\\frac{n \\pi  r}{\\lambda }\\right) \\sin \\left(\\frac{n \\pi  \\left(2R + \\tilde{\\rho}r -\\lambda_1\\right)}{\\lambda }\\right)\n",
    "\\end{split}\n",
    "$$"
   ]
  },
  {
   "cell_type": "markdown",
   "metadata": {},
   "source": [
    "##### When $\\gamma_1 = \\gamma_2, ~\\tilde{\\delta} = 0, ~\\tilde{\\rho} =\\tilde{\\Delta}$ we have"
   ]
  },
  {
   "cell_type": "markdown",
   "metadata": {},
   "source": [
    "$$\n",
    "\\begin{split}\n",
    "F_R(R, r) &= \\frac{1}{\\gamma}\\frac{\\alpha\\lambda}{ \\pi  \\left(\\lambda -\\lambda _1\\right) \\lambda _1}  \\sum_{n = 1}^{\\infty} \\frac{2}{n} \\sin \\left(\\frac{n \\pi   \\lambda _1}{\\lambda }\\right) \\cos \\left(\\frac{n \\pi r}{\\lambda }\\right) \\cos \\left(\\frac{n \\pi   \\left(2R + \\tilde{\\Delta}r -\\lambda_1\\right)}{\\lambda }\\right) \\\\\n",
    "&+ \\frac{1}{\\gamma} \\frac{\\alpha\\lambda \\tilde{\\Delta}}{ \\pi  \\left(\\lambda -\\lambda _1\\right) \\lambda _1}  \\sum_{n = 1}^{\\infty} \\frac{2}{n} \\sin \\left(\\frac{n \\pi  \\lambda _1 }{\\lambda }\\right) \\sin \\left(\\frac{n \\pi  r}{\\lambda }\\right) \\sin \\left(\\frac{n \\pi  \\left(2R + \\tilde{\\Delta}r -\\lambda_1\\right)}{\\lambda }\\right)\n",
    "\\end{split}\n",
    "$$"
   ]
  },
  {
   "cell_type": "markdown",
   "metadata": {},
   "source": [
    "The Langevin eqaution is thus"
   ]
  },
  {
   "cell_type": "markdown",
   "metadata": {},
   "source": [
    "$$\n",
    "\\begin{split}\n",
    " F_r(R, r) &= -\\frac{1}{\\gamma}\\frac{\\alpha\\lambda}{ \\pi  \\left(\\lambda -\\lambda _1\\right) \\lambda _1}  \\sum_{n = 1}^{\\infty} \\frac{4}{n} \\sin \\left(\\frac{n \\pi  \\lambda _1 }{\\lambda }\\right) \\sin \\left(\\frac{n \\pi  r}{\\lambda }\\right) \\sin \\left(\\frac{n \\pi  \\left(2R + \\tilde{\\Delta}r -\\lambda_1\\right)}{\\lambda }\\right)\n",
    "\\end{split}\n",
    "$$"
   ]
  },
  {
   "cell_type": "markdown",
   "metadata": {},
   "source": [
    "$$\n",
    "\\begin{split}\n",
    " \\frac{d}{dt} R(t) &=  \\frac{1}{2}\\frac{k}{\\gamma_M}\\frac{\\tilde{\\Delta}}{\\left ( 1 + \\tilde{\\Delta} ~\\tilde{\\delta}\\right)}r(t) \\\\\n",
    " &+\\frac{1}{\\gamma} \\frac{\\alpha\\lambda \\tilde{\\Delta}}{ \\pi  \\left(\\lambda -\\lambda _1\\right) \\lambda _1}  \\sum_{n = 1}^{\\infty} \\frac{2}{n} \\sin \\left(\\frac{n \\pi  \\lambda _1 }{\\lambda }\\right) \\sin \\left(\\frac{n \\pi  r}{\\lambda }\\right) \\sin \\left(\\frac{n \\pi  \\left(2R + \\tilde{\\Delta}r -\\lambda_1\\right)}{\\lambda }\\right)\\\\\n",
    " &+ \\frac{1}{\\gamma}\\frac{\\alpha\\lambda}{ \\pi  \\left(\\lambda -\\lambda _1\\right) \\lambda _1}  \\sum_{n = 1}^{\\infty} \\frac{2}{n} \\sin \\left(\\frac{n \\pi   \\lambda _1}{\\lambda }\\right) \\cos \\left(\\frac{n \\pi r}{\\lambda }\\right) \\cos \\left(\\frac{n \\pi   \\left(2R + \\tilde{\\Delta}r -\\lambda_1\\right)}{\\lambda }\\right)\\\\\n",
    " &+ \\sqrt{\\frac{k_B T}{\\gamma_M}(1 - \\tilde{\\Delta}^2 )}~\\xi_R(t) \\\\\n",
    " \\frac{d}{dt} r(t) &= -\\frac{2k}{\\gamma} r(t) \\\\ \n",
    " &-\\frac{1}{\\gamma}\\frac{\\alpha\\lambda}{ \\pi  \\left(\\lambda -\\lambda _1\\right) \\lambda _1}  \\sum_{n = 1}^{\\infty} \\frac{4}{n} \\sin \\left(\\frac{n \\pi  \\lambda _1 }{\\lambda }\\right) \\sin \\left(\\frac{n \\pi  r}{\\lambda }\\right) \\sin \\left(\\frac{n \\pi  \\left(2R + \\tilde{\\Delta}r -\\lambda_1\\right)}{\\lambda }\\right)  \\\\\n",
    " &+ \\sqrt{\\frac{4k_B T}{\\gamma} }~\\xi_r(t) \n",
    "\\end{split}\n",
    "$$\n"
   ]
  },
  {
   "cell_type": "markdown",
   "metadata": {},
   "source": [
    "#### Dimensionless equation"
   ]
  },
  {
   "cell_type": "markdown",
   "metadata": {},
   "source": [
    "* $\\tilde{r} = \\frac{r}{\\lambda}$\n",
    "* $\\tilde{R} = \\frac{R}{\\lambda}$\n",
    "* $\\tilde{\\lambda_1} =\\frac{\\tilde{\\lambda_1}}{\\lambda}$\n",
    "* $\\tilde{\\alpha} = \\frac{\\alpha}{k_BT}$\n",
    "* $\\tilde{k} = \\frac{1}{2}\\frac{k\\lambda^2}{k_BT}$\n",
    "* $ t = \\frac{\\gamma \\lambda^2}{4k_B T} \\tilde{t}$"
   ]
  },
  {
   "cell_type": "markdown",
   "metadata": {},
   "source": [
    "In dimensionless form we have\n",
    "$$\n",
    "\\begin{split}\n",
    " \\frac{d}{d\\tilde{t}} \\tilde{R}(\\tilde{t}) &=  \\frac{1}{4}\\tilde{k}~\\tilde{\\Delta}~\\tilde{r}(\\tilde{t}) \\\\\n",
    " &+\\frac{ \\tilde{\\Delta}}{2} \\frac{\\tilde{\\alpha}}{ \\pi  \\left(1 -\\tilde{\\lambda _1}\\right) \\tilde{\\lambda _1}}  \\sum_{n = 1}^{\\infty} \\frac{1}{n} \\sin \\left(n \\pi  \\tilde{\\lambda _1} \\right) \\sin \\left(n \\pi  \\tilde{r} \\right) \\sin \\left(n \\pi  \\left(2\\tilde{R} + \\tilde{\\Delta}\\tilde{r} -\\tilde{\\lambda_1}\\right)\\right)\\\\\n",
    " &+ \\frac{1 }{2}\\frac{\\tilde{\\alpha}}{ \\pi   \\left(1 -\\tilde{\\lambda _1}\\right) \\tilde{\\lambda _1}}  \\sum_{n = 1}^{\\infty} \\frac{1}{n} \\sin \\left(n \\pi  \\tilde{\\lambda _1}\\right) \\cos \\left(n \\pi \\tilde{r}\\right) \\cos \\left(n \\pi   \\left(2\\tilde{R} + \\tilde{\\Delta}\\tilde{r} -\\tilde{\\lambda_1}\\right)\\right)\\\\\n",
    " &+ \\sqrt{\\frac{(1 - \\tilde{\\Delta}^2 )}{4}}~\\xi_R(\\tilde{t}) \n",
    " \\end{split}\n",
    " $$\n",
    " \n",
    " $$\n",
    " \\begin{split}\n",
    " \\frac{d}{dt} \\tilde{r}(\\tilde{t}) &= -\\tilde{k}~ \\tilde{r}(\\tilde{t}) \\\\ \n",
    " &-\\frac{\\tilde{\\alpha}}{  \\pi  \\left(1 -\\tilde{\\lambda}_1\\right) \\tilde{\\lambda}_1}  \\sum_{n = 1}^{\\infty} \\frac{1}{n}  \\sin \\left(n \\pi  \\tilde{\\lambda _1} \\right) \\sin \\left(n \\pi  \\tilde{r} \\right) \\sin \\left(n \\pi  \\left(2\\tilde{R} + \\tilde{\\Delta}\\tilde{r} -\\tilde{\\lambda_1}\\right)\\right)  \\\\\n",
    " &+ \\xi_r(\\tilde{t}) \n",
    "\\end{split}\n",
    "$$\n"
   ]
  },
  {
   "cell_type": "markdown",
   "metadata": {},
   "source": [
    "The equation above look even nicer if we again redefine $2\\tilde{R}(\\tilde{t}) = \\tilde{S}(\\tilde{t})$. The reason for the symbol $\\tilde{S}$ is that when $\\gamma_1 = \\gamma_2$ and $T_1 = T_2$ the expression for $R$ is $x_1 +x_2$. Hence,\n",
    "\n",
    "\n",
    "$$\n",
    "\\begin{split}\n",
    " \\frac{d}{d\\tilde{t}} \\tilde{S}(\\tilde{t}) &=  \\frac{1}{2}\\tilde{k}~\\tilde{\\Delta}~\\tilde{r}(\\tilde{t}) \\\\\n",
    " &+ \\tilde{\\Delta} \\frac{\\tilde{\\alpha}}{ \\pi  \\left(1 -\\tilde{\\lambda _1}\\right) \\tilde{\\lambda _1}}  \\sum_{n = 1}^{\\infty} \\frac{1}{n} \\sin \\left(n \\pi  \\tilde{\\lambda _1} \\right) \\sin \\left(n \\pi  \\tilde{r} \\right) \\sin \\left(n \\pi  \\left(\\tilde{S} + \\tilde{\\Delta}\\tilde{r} -\\tilde{\\lambda_1}\\right)\\right)\\\\\n",
    " &+ \\frac{\\tilde{\\alpha}}{ \\pi   \\left(1 -\\tilde{\\lambda _1}\\right) \\tilde{\\lambda _1}}  \\sum_{n = 1}^{\\infty} \\frac{1}{n} \\sin \\left(n \\pi  \\tilde{\\lambda _1}\\right) \\cos \\left(n \\pi \\tilde{r}\\right) \\cos \\left(n \\pi   \\left(\\tilde{S} + \\tilde{\\Delta}\\tilde{r} -\\tilde{\\lambda_1}\\right)\\right)\\\\\n",
    " &+ \\sqrt{(1 - \\tilde{\\Delta}^2 )}~\\xi_R(\\tilde{t}) \n",
    " \\end{split}\n",
    " $$\n",
    " \n",
    " $$\n",
    " \\begin{split}\n",
    " \\frac{d}{dt} \\tilde{r}(\\tilde{t}) &= -\\tilde{k}~ \\tilde{r}(\\tilde{t}) \\\\ \n",
    " &-\\frac{\\tilde{\\alpha}}{  \\pi  \\left(1 -\\tilde{\\lambda}_1\\right) \\tilde{\\lambda}_1}  \\sum_{n = 1}^{\\infty} \\frac{1}{n}  \\sin \\left(n \\pi  \\tilde{\\lambda _1} \\right) \\sin \\left(n \\pi  \\tilde{r} \\right) \\sin \\left(n \\pi  \\left(\\tilde{S} + \\tilde{\\Delta}\\tilde{r} -\\tilde{\\lambda_1}\\right)\\right)  \\\\\n",
    " &+ \\xi_r(\\tilde{t}) \n",
    "\\end{split}\n",
    "$$"
   ]
  },
  {
   "cell_type": "markdown",
   "metadata": {},
   "source": [
    "If two problems the same parameter $(\\tilde{k}, \\tilde{\\alpha}, \\tilde{\\lambda}_1, \\tilde{\\Delta})$, the solution si"
   ]
  },
  {
   "cell_type": "code",
   "execution_count": null,
   "metadata": {
    "collapsed": true
   },
   "outputs": [],
   "source": []
  }
 ],
 "metadata": {
  "kernelspec": {
   "display_name": "Python 2",
   "language": "python",
   "name": "python2"
  },
  "language_info": {
   "codemirror_mode": {
    "name": "ipython",
    "version": 2
   },
   "file_extension": ".py",
   "mimetype": "text/x-python",
   "name": "python",
   "nbconvert_exporter": "python",
   "pygments_lexer": "ipython2",
   "version": "2.7.13"
  }
 },
 "nbformat": 4,
 "nbformat_minor": 2
}
